{
 "cells": [
  {
   "cell_type": "markdown",
   "id": "ddf350a4",
   "metadata": {},
   "source": [
    "### Autor: Fernando Ordinola S."
   ]
  },
  {
   "cell_type": "markdown",
   "id": "4d94f765",
   "metadata": {},
   "source": [
    "## Preliminares"
   ]
  },
  {
   "cell_type": "markdown",
   "id": "a2c0ee58",
   "metadata": {},
   "source": [
    "> __Formulación del problema__:  El problema planteado es un problema de clasificación binaria supervisada en el ámbito del procesamiento de lenguaje natural (NLP). El objetivo es clasificar los tweets en dos categorías, positiva o negativa, en función del sentimiento que expresan.\n",
    ">\n",
    ">El conjunto de datos consiste en un conjunto de tweets etiquetados con su respectiva emoción, lo que hace que este problema sea un problema de aprendizaje supervisado. Los tweets se consideran como características del modelo, mientras que la polaridad (positiva o negativa) se considera como la variable objetivo.\n",
    ">\n",
    ">Para resolver este problema, se pueden utilizar diferentes técnicas de aprendizaje automático, como clasificadores basados en árboles de decisión, redes neuronales, SVM, Naive Bayes, entre otros. Se pueden aplicar diferentes técnicas de preprocesamiento de texto, como limpieza de datos, normalización, tokenización, eliminación de stopwords, entre otras, para mejorar el rendimiento del modelo.\n",
    ">\n",
    "> __Objetivo__: Lograr un desempeño significativo en la clasificación de la polaridad de los tweets entregados haciendo uso de preprocesamiento, análisis de la naturaleza del lenguaje, y haciendo uso de posibles técnicas como lemmatización.\n",
    ">\n",
    ">\n",
    "> __Implementación de la solución__: Se implementarán modelos de clasificación supervisada que según nuestro criterio pueden dar mejores resultados en el ambito de procesamiento de texto, pero para ello antes se hará limpieza de datos, preprocesamiento, eliminación de stopwords, procesos linguisticos como lo son la lemantización además de un análisis exploratorio para observar como se comportan los datos ante la aplicación de diferentes técnicas de preprocesamiento.\n",
    "\n",
    "> __Métricas de desempeño__\n",
    ">> - Exactitud\n",
    ">> - Precisión\n",
    ">> - Recall\n",
    ">> - F1 Score\n",
    "\n",
    "> __Modelos a utilizar__\n",
    ">> - Naive Bayes\n",
    ">> - SVC\n",
    ">> - Logistic Regression\n",
    ">> - Random Forest\n",
    ">> - Gradient Boost\n",
    "\n",
    "> __Estrategia de división de muestras__: Se usará train_test_split de la libreria Scikit-learn, La idea detrás de esta división es que el modelo se entrene con el conjunto de datos de entrenamiento y luego se pruebe con el conjunto de datos de prueba para medir su capacidad para generalizar a nuevos datos. De esta manera, podemos evitar el sobreajuste y la subestimación del modelo.\n",
    "\n",
    "> __Tipo de pre procesamiento a utilizar__: Dado que se cuentan con pocas variables, se ajustaran diferentes variantes de la columna correspondientes a los tweets para que se ajusten mejor a la naturaleza de cada modelo, por ejemplo eliminar stopwords en un modelo naive bayes puede ser algo negativo ya que este depende de la distribución de tokens etc, por otra parte se probará con lemantización en diferentes niveles, ya sea aplicando a todos los tipos de palabras o solo aplicando a sustantivos y no a verbos ya que posiblemente un verbo puede ser determinante en el proposito de lo que se busca expresar en un tweet"
   ]
  },
  {
   "cell_type": "markdown",
   "id": "b3201499",
   "metadata": {},
   "source": [
    "## Aspectos Computacionales"
   ]
  },
  {
   "cell_type": "markdown",
   "id": "96efff1f",
   "metadata": {},
   "source": [
    "> Python 3.9.12\n",
    "\n",
    "> Librerías a utilizar\n",
    "> - pandas 1.4.2\n",
    "> - numpy 1.21.5\n",
    "> - matplotlib 3.5.1\n",
    "> - wordcloud 1.8.2.2\n",
    "> - seaborn 0.11.2\n",
    "> - sklearn 1.0.2\n",
    "> - nltk 3.7\n",
    "> - keras 2.11.0"
   ]
  },
  {
   "cell_type": "markdown",
   "id": "2c1ce675",
   "metadata": {},
   "source": [
    "Grillas\n",
    "\n",
    "> LR\n",
    "> - C = [0.1, 1, 10, 100]\n",
    "> - max_iter = [100, 200, 250]\n",
    "\n",
    "> Linear SVC\n",
    "> - C = [0.1, 1, 10, 100]\n",
    "> - max_iter = [1000, 5000, 10000]\n",
    "\n",
    "> NB\n",
    "> - alpha = [0.001, 0.01, 1, 10]\n",
    "> - fit_prior = [True, False]\n",
    "\n",
    "> GradientBoostingClassifier\n",
    "> - n_estimators = [10, 50, 150, 250, 450]\n",
    "> - max_depth = [3,6,8]\n",
    "> - learning_rate = [0.1, 0.5, 1]"
   ]
  },
  {
   "cell_type": "code",
   "execution_count": 47,
   "id": "822afc84",
   "metadata": {
    "scrolled": true
   },
   "outputs": [
    {
     "name": "stderr",
     "output_type": "stream",
     "text": [
      "[nltk_data] Downloading package stopwords to\n",
      "[nltk_data]     C:\\Users\\ferna\\AppData\\Roaming\\nltk_data...\n",
      "[nltk_data]   Package stopwords is already up-to-date!\n"
     ]
    },
    {
     "data": {
      "text/plain": [
       "True"
      ]
     },
     "execution_count": 47,
     "metadata": {},
     "output_type": "execute_result"
    }
   ],
   "source": [
    "import nltk\n",
    "import numpy as np\n",
    "import pandas as pd\n",
    "import seaborn as sns\n",
    "import matplotlib.pyplot as plt\n",
    "\n",
    "from nltk import FreqDist\n",
    "from nltk.corpus import stopwords\n",
    "from nltk.stem import WordNetLemmatizer\n",
    "from nltk.tokenize import word_tokenize\n",
    "\n",
    "from sklearn.ensemble import GradientBoostingClassifier\n",
    "from sklearn.feature_extraction.text import CountVectorizer\n",
    "from sklearn.linear_model import LogisticRegression\n",
    "from sklearn.metrics import classification_report\n",
    "from sklearn.model_selection import GridSearchCV, train_test_split\n",
    "from sklearn.naive_bayes import BernoulliNB, MultinomialNB\n",
    "from sklearn.svm import SVC\n",
    "from sklearn.pipeline import Pipeline\n",
    "import re\n",
    "from sklearn.ensemble import StackingClassifier\n",
    "import random\n",
    "\n",
    "import spacy\n",
    "from wordcloud import WordCloud\n",
    "\n",
    "plt.rcParams['figure.figsize'] = (10,7)\n",
    "\n",
    "# Descarga de stopwords de NLTK\n",
    "nltk.download('stopwords')"
   ]
  },
  {
   "cell_type": "code",
   "execution_count": 4,
   "id": "e10c9468",
   "metadata": {},
   "outputs": [],
   "source": [
    "df = pd.read_csv('training_tweets.csv').drop('Unnamed: 0', axis=1)"
   ]
  },
  {
   "cell_type": "markdown",
   "id": "500efb88",
   "metadata": {},
   "source": [
    "# Feature Engineering"
   ]
  },
  {
   "cell_type": "code",
   "execution_count": 5,
   "id": "e02e2a3f",
   "metadata": {
    "scrolled": false
   },
   "outputs": [],
   "source": [
    "df['content'] = df['content'].str.lower() #transformamos todos los tweets a lowercase."
   ]
  },
  {
   "cell_type": "markdown",
   "id": "c89bdec8",
   "metadata": {},
   "source": [
    "<html>_________________________________________________________________________________________________________________________ </html>"
   ]
  },
  {
   "cell_type": "code",
   "execution_count": 6,
   "id": "7806692b",
   "metadata": {},
   "outputs": [
    {
     "data": {
      "text/plain": [
       "content      0\n",
       "sentiment    0\n",
       "dtype: int64"
      ]
     },
     "execution_count": 6,
     "metadata": {},
     "output_type": "execute_result"
    }
   ],
   "source": [
    "df.isnull().sum()"
   ]
  },
  {
   "cell_type": "markdown",
   "id": "acf0311e",
   "metadata": {},
   "source": [
    "<html>_________________________________________________________________________________________________________________________ </html>"
   ]
  },
  {
   "cell_type": "code",
   "execution_count": 11,
   "id": "09cce599",
   "metadata": {},
   "outputs": [],
   "source": [
    "nlp = spacy.load('en_core_web_sm')\n",
    "\n",
    "def lemmatize_tweet(tweet):\n",
    "    doc = nlp(tweet)\n",
    "    lemmatized_tokens = [token.lemma_ for token in doc]\n",
    "    return \" \".join(lemmatized_tokens)"
   ]
  },
  {
   "cell_type": "code",
   "execution_count": 12,
   "id": "f6c52716",
   "metadata": {},
   "outputs": [],
   "source": [
    "def delete_usr_mention(tweet):\n",
    "    tweet_no_user = re.sub(r\"@\\w+[.:;]?\", \"\", tweet)\n",
    "    return tweet_no_user"
   ]
  },
  {
   "cell_type": "code",
   "execution_count": 13,
   "id": "23ed617c",
   "metadata": {},
   "outputs": [],
   "source": [
    "def remove_urls(text):\n",
    "    url_pattern = re.compile(r'http\\S+')\n",
    "    return url_pattern.sub(r'', text)"
   ]
  },
  {
   "cell_type": "code",
   "execution_count": 16,
   "id": "ba828769",
   "metadata": {},
   "outputs": [],
   "source": [
    "df['content'] = df['content'].apply(delete_usr_mention)"
   ]
  },
  {
   "cell_type": "code",
   "execution_count": 17,
   "id": "acf6dbc4",
   "metadata": {},
   "outputs": [],
   "source": [
    "df['content'] = df['content'].apply(lambda x: remove_urls(x))"
   ]
  },
  {
   "cell_type": "markdown",
   "id": "b18f9d64",
   "metadata": {},
   "source": [
    "No quedaron celdas vacias, así que se puede observar que las url que se eliminaron de los tweets siempre venian acompañadas por algun mensaje del usuario"
   ]
  },
  {
   "cell_type": "code",
   "execution_count": 18,
   "id": "a5037989",
   "metadata": {},
   "outputs": [
    {
     "data": {
      "text/html": [
       "<div>\n",
       "<style scoped>\n",
       "    .dataframe tbody tr th:only-of-type {\n",
       "        vertical-align: middle;\n",
       "    }\n",
       "\n",
       "    .dataframe tbody tr th {\n",
       "        vertical-align: top;\n",
       "    }\n",
       "\n",
       "    .dataframe thead th {\n",
       "        text-align: right;\n",
       "    }\n",
       "</style>\n",
       "<table border=\"1\" class=\"dataframe\">\n",
       "  <thead>\n",
       "    <tr style=\"text-align: right;\">\n",
       "      <th></th>\n",
       "      <th>content</th>\n",
       "      <th>sentiment</th>\n",
       "    </tr>\n",
       "  </thead>\n",
       "  <tbody>\n",
       "  </tbody>\n",
       "</table>\n",
       "</div>"
      ],
      "text/plain": [
       "Empty DataFrame\n",
       "Columns: [content, sentiment]\n",
       "Index: []"
      ]
     },
     "execution_count": 18,
     "metadata": {},
     "output_type": "execute_result"
    }
   ],
   "source": [
    "df.loc[df['content'].isnull()]"
   ]
  },
  {
   "cell_type": "code",
   "execution_count": 19,
   "id": "5ec4cd07",
   "metadata": {},
   "outputs": [],
   "source": [
    "df['lemmatized_tweets'] = df['content'].apply(lemmatize_tweet)"
   ]
  },
  {
   "cell_type": "code",
   "execution_count": 20,
   "id": "ed52a342",
   "metadata": {},
   "outputs": [
    {
     "data": {
      "text/html": [
       "<div>\n",
       "<style scoped>\n",
       "    .dataframe tbody tr th:only-of-type {\n",
       "        vertical-align: middle;\n",
       "    }\n",
       "\n",
       "    .dataframe tbody tr th {\n",
       "        vertical-align: top;\n",
       "    }\n",
       "\n",
       "    .dataframe thead th {\n",
       "        text-align: right;\n",
       "    }\n",
       "</style>\n",
       "<table border=\"1\" class=\"dataframe\">\n",
       "  <thead>\n",
       "    <tr style=\"text-align: right;\">\n",
       "      <th></th>\n",
       "      <th>content</th>\n",
       "      <th>sentiment</th>\n",
       "      <th>lemmatized_tweets</th>\n",
       "    </tr>\n",
       "  </thead>\n",
       "  <tbody>\n",
       "    <tr>\n",
       "      <th>0</th>\n",
       "      <td>happy mama's day to all mothers</td>\n",
       "      <td>love</td>\n",
       "      <td>happy mama 's day to all mother</td>\n",
       "    </tr>\n",
       "    <tr>\n",
       "      <th>1</th>\n",
       "      <td>i am lost. please help me find a good home.</td>\n",
       "      <td>worry</td>\n",
       "      <td>I be lose . please help I find a good home .</td>\n",
       "    </tr>\n",
       "    <tr>\n",
       "      <th>2</th>\n",
       "      <td>yes yes i am, networking whore to the fullest...</td>\n",
       "      <td>happiness</td>\n",
       "      <td>yes yes I be , network whore to the full ......</td>\n",
       "    </tr>\n",
       "    <tr>\n",
       "      <th>3</th>\n",
       "      <td>you wish that would have been your tweet after...</td>\n",
       "      <td>neutral</td>\n",
       "      <td>you wish that would have be your tweet after y...</td>\n",
       "    </tr>\n",
       "    <tr>\n",
       "      <th>4</th>\n",
       "      <td>now i am doing the microeconomics project  iha...</td>\n",
       "      <td>worry</td>\n",
       "      <td>now I be do the microeconomics project   ihate...</td>\n",
       "    </tr>\n",
       "  </tbody>\n",
       "</table>\n",
       "</div>"
      ],
      "text/plain": [
       "                                             content  sentiment  \\\n",
       "0                    happy mama's day to all mothers       love   \n",
       "1        i am lost. please help me find a good home.      worry   \n",
       "2   yes yes i am, networking whore to the fullest...  happiness   \n",
       "3  you wish that would have been your tweet after...    neutral   \n",
       "4  now i am doing the microeconomics project  iha...      worry   \n",
       "\n",
       "                                   lemmatized_tweets  \n",
       "0                    happy mama 's day to all mother  \n",
       "1       I be lose . please help I find a good home .  \n",
       "2    yes yes I be , network whore to the full ......  \n",
       "3  you wish that would have be your tweet after y...  \n",
       "4  now I be do the microeconomics project   ihate...  "
      ]
     },
     "execution_count": 20,
     "metadata": {},
     "output_type": "execute_result"
    }
   ],
   "source": [
    "df.head()"
   ]
  },
  {
   "cell_type": "markdown",
   "id": "5027eb09",
   "metadata": {},
   "source": [
    "<html>_________________________________________________________________________________________________________________________ </html>"
   ]
  },
  {
   "cell_type": "markdown",
   "id": "26be5723",
   "metadata": {},
   "source": [
    "#### Recodificación"
   ]
  },
  {
   "cell_type": "code",
   "execution_count": 21,
   "id": "8242d8df",
   "metadata": {},
   "outputs": [],
   "source": [
    "positive_s = [\"happiness\", 'love', 'surprise', 'fun', 'relief', 'enthusiasm']\n",
    "negative_s = [\"worry\", 'sadness', 'hate', 'empty', 'boredom', 'anger']\n",
    "\n",
    "pos_d = {x:'Positive' for x in positive_s}\n",
    "neg_d = {x:'Negative' for x in negative_s}\n",
    "\n",
    "pos_d.update(neg_d)"
   ]
  },
  {
   "cell_type": "code",
   "execution_count": 22,
   "id": "10e7c0c7",
   "metadata": {},
   "outputs": [],
   "source": [
    "df[\"polarity\"] = df[\"sentiment\"].replace(pos_d)\n",
    "df_no_neutral = df[df[\"polarity\"] != 'neutral']"
   ]
  },
  {
   "cell_type": "code",
   "execution_count": 23,
   "id": "bab685b3",
   "metadata": {
    "scrolled": true
   },
   "outputs": [
    {
     "data": {
      "text/plain": [
       "Negative    0.400733\n",
       "Positive    0.384233\n",
       "neutral     0.215033\n",
       "Name: polarity, dtype: float64"
      ]
     },
     "execution_count": 23,
     "metadata": {},
     "output_type": "execute_result"
    }
   ],
   "source": [
    "df.polarity.value_counts('%')"
   ]
  },
  {
   "cell_type": "markdown",
   "id": "f3e7f713",
   "metadata": {},
   "source": [
    "> Como se puede observar los neutrales son un 21% de los sentimientos, y si recodificamos aleatoriamiente lo más probable a criterio es que se empeore el desempeño, por lo que primero probaremos con un naive bayes para testear el desempeño sin considerar los neutrales y luego haremos lo mismo recodificando neutrales aleatoriamente para comparar cuanto se empeora el desempeño, __para posteriormente proponer una solución a este problema__"
   ]
  },
  {
   "cell_type": "markdown",
   "id": "db6875b4",
   "metadata": {},
   "source": [
    "##### Modelo entrenado solo con positive & negative, excluyendo neutral (Recod)"
   ]
  },
  {
   "cell_type": "code",
   "execution_count": 66,
   "id": "9b261164",
   "metadata": {},
   "outputs": [],
   "source": [
    "X_train, X_test, y_train, y_test = train_test_split(df_no_neutral['lemmatized_tweets'], \n",
    "                                                    df_no_neutral['polarity'], test_size=0.33, random_state=11238)"
   ]
  },
  {
   "cell_type": "code",
   "execution_count": 67,
   "id": "69b7f81c",
   "metadata": {},
   "outputs": [],
   "source": [
    "pipeline = Pipeline([\n",
    "    ('vectorizer', CountVectorizer()),\n",
    "    ('classifier', MultinomialNB())\n",
    "])"
   ]
  },
  {
   "cell_type": "code",
   "execution_count": 68,
   "id": "8a82d88d",
   "metadata": {},
   "outputs": [],
   "source": [
    "pipeline.fit(X_train, y_train)\n",
    "predictions = pipeline.predict(X_test)"
   ]
  },
  {
   "cell_type": "code",
   "execution_count": 69,
   "id": "7c6ada42",
   "metadata": {
    "scrolled": false
   },
   "outputs": [
    {
     "name": "stdout",
     "output_type": "stream",
     "text": [
      "\n",
      "Reporte de Clasificación:\n",
      "              precision    recall  f1-score   support\n",
      "\n",
      "    Negative       0.72      0.79      0.75      4009\n",
      "    Positive       0.75      0.67      0.70      3763\n",
      "\n",
      "    accuracy                           0.73      7772\n",
      "   macro avg       0.73      0.73      0.73      7772\n",
      "weighted avg       0.73      0.73      0.73      7772\n",
      "\n"
     ]
    }
   ],
   "source": [
    "print(\"\\nReporte de Clasificación:\")\n",
    "print(classification_report(y_test, predictions))"
   ]
  },
  {
   "cell_type": "code",
   "execution_count": 70,
   "id": "dd653e24",
   "metadata": {
    "scrolled": false
   },
   "outputs": [
    {
     "data": {
      "text/plain": [
       "Pipeline(steps=[('vectorizer', CountVectorizer()),\n",
       "                ('classifier', BernoulliNB(alpha=2))])"
      ]
     },
     "execution_count": 70,
     "metadata": {},
     "output_type": "execute_result"
    }
   ],
   "source": [
    "pipeline.set_params(classifier=BernoulliNB(alpha=2, binarize=0.0))"
   ]
  },
  {
   "cell_type": "code",
   "execution_count": 71,
   "id": "dad44cba",
   "metadata": {},
   "outputs": [
    {
     "data": {
      "text/plain": [
       "Pipeline(steps=[('vectorizer', CountVectorizer()),\n",
       "                ('classifier', BernoulliNB(alpha=2))])"
      ]
     },
     "execution_count": 71,
     "metadata": {},
     "output_type": "execute_result"
    }
   ],
   "source": [
    "pipeline.fit(X_train, y_train)"
   ]
  },
  {
   "cell_type": "code",
   "execution_count": 72,
   "id": "cb022884",
   "metadata": {},
   "outputs": [
    {
     "name": "stdout",
     "output_type": "stream",
     "text": [
      "\n",
      "Reporte de Clasificación para BernoulliNB:\n",
      "              precision    recall  f1-score   support\n",
      "\n",
      "    Negative       0.72      0.78      0.75      4009\n",
      "    Positive       0.74      0.68      0.71      3763\n",
      "\n",
      "    accuracy                           0.73      7772\n",
      "   macro avg       0.73      0.73      0.73      7772\n",
      "weighted avg       0.73      0.73      0.73      7772\n",
      "\n"
     ]
    }
   ],
   "source": [
    "predictions_bnb = pipeline.predict(X_test)\n",
    "print(\"\\nReporte de Clasificación para BernoulliNB:\")\n",
    "print(classification_report(y_test, predictions_bnb))"
   ]
  },
  {
   "cell_type": "markdown",
   "id": "86071948",
   "metadata": {},
   "source": [
    "> Ahora probamos recodificando de forma aleatoria "
   ]
  },
  {
   "cell_type": "code",
   "execution_count": 73,
   "id": "f5e1c1a3",
   "metadata": {},
   "outputs": [],
   "source": [
    "mask = df['polarity'] == 'neutral'\n",
    "neutral_indices = np.where(mask)[0]"
   ]
  },
  {
   "cell_type": "code",
   "execution_count": 74,
   "id": "28f78913",
   "metadata": {},
   "outputs": [],
   "source": [
    "df['polarity_neutral_random'] = df['polarity']\n",
    "\n",
    "for row in neutral_indices:\n",
    "    df['polarity_neutral_random'].iloc[row] = random.choice(['Positive', 'Negative'])\n",
    "        "
   ]
  },
  {
   "cell_type": "code",
   "execution_count": 75,
   "id": "57dc3719",
   "metadata": {},
   "outputs": [],
   "source": [
    "X_train_2, X_test_2, y_train_2, y_test_2 = train_test_split(df['lemmatized_tweets'], df['polarity_neutral_random'], \n",
    "                                                    test_size = 0.33, random_state = 11238)"
   ]
  },
  {
   "cell_type": "code",
   "execution_count": 76,
   "id": "c286eb6e",
   "metadata": {
    "scrolled": true
   },
   "outputs": [
    {
     "data": {
      "text/plain": [
       "Pipeline(steps=[('vectorizer', CountVectorizer()),\n",
       "                ('classifier', BernoulliNB(alpha=2))])"
      ]
     },
     "execution_count": 76,
     "metadata": {},
     "output_type": "execute_result"
    }
   ],
   "source": [
    "pipeline.fit(X_train_2, y_train_2)"
   ]
  },
  {
   "cell_type": "code",
   "execution_count": 77,
   "id": "450d6108",
   "metadata": {},
   "outputs": [],
   "source": [
    "y_bnb = pipeline.predict(X_test_2)"
   ]
  },
  {
   "cell_type": "code",
   "execution_count": 78,
   "id": "9cfa8afb",
   "metadata": {
    "scrolled": true
   },
   "outputs": [
    {
     "name": "stdout",
     "output_type": "stream",
     "text": [
      "\n",
      "Reporte de Clasificación:\n",
      "              precision    recall  f1-score   support\n",
      "\n",
      "    Negative       0.66      0.72      0.69      4935\n",
      "    Positive       0.69      0.62      0.66      4965\n",
      "\n",
      "    accuracy                           0.67      9900\n",
      "   macro avg       0.67      0.67      0.67      9900\n",
      "weighted avg       0.67      0.67      0.67      9900\n",
      "\n"
     ]
    }
   ],
   "source": [
    "print(\"\\nReporte de Clasificación:\")\n",
    "print(classification_report(y_test_2, y_bnb))"
   ]
  },
  {
   "cell_type": "markdown",
   "id": "c650fa8b",
   "metadata": {},
   "source": [
    "> Como se puede observar, era de esperar que el desempeño bajase considerablemente aleatorizando la recodificación de los neutrales, por lo que se propone usar el primer BernoulliNB que se entrenó sin neutrales, para predecir la polaridad de los neutrales y recodificar de acuerdo a eso"
   ]
  },
  {
   "cell_type": "code",
   "execution_count": 81,
   "id": "144e62c6",
   "metadata": {},
   "outputs": [],
   "source": [
    "pipeline.fit(X_train, y_train)\n",
    "new_recod = pipeline.predict(df[df['polarity'] == 'neutral']['lemmatized_tweets'])"
   ]
  },
  {
   "cell_type": "code",
   "execution_count": 82,
   "id": "eae7e7d1",
   "metadata": {},
   "outputs": [],
   "source": [
    "mask = df['polarity'] == 'neutral'\n",
    "neutral_values = df['polarity'][mask]\n",
    "neutral_indices = np.where(mask)[0]"
   ]
  },
  {
   "cell_type": "code",
   "execution_count": 83,
   "id": "e6b297fd",
   "metadata": {},
   "outputs": [],
   "source": [
    "# Recodificamos los neutrales con las predicciones del modelo \n",
    "df['new_polarity'] = df['polarity']\n",
    "for index, row in enumerate(neutral_indices):\n",
    "    df['new_polarity'].iloc[row] = new_recod[index]"
   ]
  },
  {
   "cell_type": "markdown",
   "id": "37951804",
   "metadata": {},
   "source": [
    "> Ahora entrenamos un modelo con las nuevas polaridades entregadas por nuestro BernoulliNB, y observamos la mejora en rendimiento obtenida.."
   ]
  },
  {
   "cell_type": "code",
   "execution_count": 85,
   "id": "e12ade4a",
   "metadata": {},
   "outputs": [],
   "source": [
    "X_train, X_test, y_train, y_test = train_test_split(df['lemmatized_tweets'], df['new_polarity'], \n",
    "                                                    test_size = 0.33, random_state = 11238)"
   ]
  },
  {
   "cell_type": "code",
   "execution_count": 87,
   "id": "bbeb3661",
   "metadata": {
    "scrolled": true
   },
   "outputs": [
    {
     "data": {
      "text/plain": [
       "Pipeline(steps=[('vectorizer', CountVectorizer()),\n",
       "                ('classifier', BernoulliNB(alpha=2))])"
      ]
     },
     "execution_count": 87,
     "metadata": {},
     "output_type": "execute_result"
    }
   ],
   "source": [
    "pipeline.fit(X_train, y_train)"
   ]
  },
  {
   "cell_type": "code",
   "execution_count": 88,
   "id": "27a412ff",
   "metadata": {},
   "outputs": [],
   "source": [
    "predictions_bnb = pipeline.predict(X_test)"
   ]
  },
  {
   "cell_type": "code",
   "execution_count": 89,
   "id": "9f73dc47",
   "metadata": {},
   "outputs": [
    {
     "name": "stdout",
     "output_type": "stream",
     "text": [
      "\n",
      "Reporte de Clasificación:\n",
      "              precision    recall  f1-score   support\n",
      "\n",
      "    Negative       0.74      0.80      0.77      4944\n",
      "    Positive       0.78      0.72      0.75      4956\n",
      "\n",
      "    accuracy                           0.76      9900\n",
      "   macro avg       0.76      0.76      0.76      9900\n",
      "weighted avg       0.76      0.76      0.76      9900\n",
      "\n"
     ]
    }
   ],
   "source": [
    "print(\"\\nReporte de Clasificación:\")\n",
    "print(classification_report(y_test, predictions_bnb))"
   ]
  },
  {
   "cell_type": "markdown",
   "id": "a4d004b5",
   "metadata": {},
   "source": [
    "> Como podemos evidenciar, __en vez de recodificar los neutrales aleatoriamente__, los recodificamos con las predicciones que hacía nuestro modelo de Naive Bayes, el cual tenía una precisión del 73% y se había entrenado solo con los tweets positivos y negativos. Luego, estas predicciones reemplazaron a los valores neutrales y se entrenó un nuevo modelo que incluyó los valores ya recodificados. Como resultado, se observó una mejora en diversas métricas de desempeño."
   ]
  },
  {
   "cell_type": "markdown",
   "id": "bad8ffb5",
   "metadata": {},
   "source": [
    "<html>_________________________________________________________________________________________________________________________ </html>"
   ]
  },
  {
   "cell_type": "markdown",
   "id": "66c8ac2d",
   "metadata": {},
   "source": [
    "#### Eliminación de palabras comunes"
   ]
  },
  {
   "cell_type": "code",
   "execution_count": 90,
   "id": "bd3d2c5c",
   "metadata": {},
   "outputs": [],
   "source": [
    "stop_words = stopwords.words('english')"
   ]
  },
  {
   "cell_type": "code",
   "execution_count": 91,
   "id": "2d081c59",
   "metadata": {},
   "outputs": [],
   "source": [
    "count_vect = CountVectorizer(stop_words='english', strip_accents='ascii', max_df=0.90, min_df=0.05, max_features=100)"
   ]
  },
  {
   "cell_type": "code",
   "execution_count": 92,
   "id": "63f3702c",
   "metadata": {},
   "outputs": [],
   "source": [
    "count_matrix = count_vect.fit_transform(df['lemmatized_tweets'])"
   ]
  },
  {
   "cell_type": "code",
   "execution_count": 93,
   "id": "6789a404",
   "metadata": {
    "scrolled": false
   },
   "outputs": [],
   "source": [
    "count_df = pd.DataFrame(count_matrix.toarray(), columns=count_vect.get_feature_names_out())"
   ]
  },
  {
   "cell_type": "code",
   "execution_count": 94,
   "id": "5552fdc7",
   "metadata": {},
   "outputs": [],
   "source": [
    "df = pd.concat([df, count_df], axis=1)"
   ]
  },
  {
   "cell_type": "code",
   "execution_count": 95,
   "id": "52dac41f",
   "metadata": {
    "scrolled": false
   },
   "outputs": [
    {
     "data": {
      "image/png": "[encoded data removed]",
      "text/plain": [
       "<Figure size 1008x576 with 4 Axes>"
      ]
     },
     "metadata": {
      "needs_background": "light"
     },
     "output_type": "display_data"
    }
   ],
   "source": [
    "fig, axes = plt.subplots(nrows=2, ncols=2, figsize=(14, 8))\n",
    "\n",
    "for ax, col in zip(axes.flatten(), count_vect.get_feature_names_out()):\n",
    "    sns.countplot(data=df[df[col] > 0], x=col, hue='new_polarity', ax=ax)\n",
    "    \n",
    "    heights = np.nan_to_num([p.get_height() for p in ax.patches])\n",
    "    total = sum(heights)\n",
    "    for p in ax.patches:\n",
    "        ax.annotate(f'{p.get_height()/total:.1%}', (p.get_x()+p.get_width()/2, p.get_height()), ha='center', va='bottom')\n",
    "fig.tight_layout()\n",
    "\n",
    "plt.show()"
   ]
  },
  {
   "cell_type": "markdown",
   "id": "d5b86f69",
   "metadata": {},
   "source": [
    "> Veemos que estas palabras más usadas en tweets obtenidas por el countvectorizer, pueden aportar a la decisión de un modelo para decidir que polaridad son, por lo que por criterio de investigación decidimos dejarlas, a __excepción__ de __just__ que podemos ver que la diferencia es marginal, y no estaría aportando a la decisión, así que se descarta."
   ]
  },
  {
   "cell_type": "code",
   "execution_count": 96,
   "id": "dc109085",
   "metadata": {},
   "outputs": [],
   "source": [
    "df['lemmatized_tweets'] = df['lemmatized_tweets'].str.replace('just', '')"
   ]
  },
  {
   "cell_type": "markdown",
   "id": "d7acce55",
   "metadata": {},
   "source": [
    "<html>_________________________________________________________________________________________________________________________ </html>"
   ]
  },
  {
   "cell_type": "code",
   "execution_count": 97,
   "id": "c993a411",
   "metadata": {},
   "outputs": [],
   "source": [
    "tokens = [word_tokenize(message) for message in df['lemmatized_tweets']] "
   ]
  },
  {
   "cell_type": "code",
   "execution_count": 98,
   "id": "4ef3de5b",
   "metadata": {},
   "outputs": [],
   "source": [
    "frequency_dist = FreqDist(token for tokens_list in tokens for token in tokens_list)"
   ]
  },
  {
   "cell_type": "code",
   "execution_count": 99,
   "id": "f7e4b7d4",
   "metadata": {},
   "outputs": [],
   "source": [
    "filtered_d = {k: v for k, v in frequency_dist.items() if len(k) > 1}"
   ]
  },
  {
   "cell_type": "markdown",
   "id": "358eff4f",
   "metadata": {},
   "source": [
    "<html>_________________________________________________________________________________________________________________________ </html>"
   ]
  },
  {
   "cell_type": "markdown",
   "id": "f31a83a5",
   "metadata": {},
   "source": [
    "# EDA"
   ]
  },
  {
   "cell_type": "markdown",
   "id": "d66e7513",
   "metadata": {},
   "source": [
    "#### Datos nulos"
   ]
  },
  {
   "cell_type": "code",
   "execution_count": 102,
   "id": "a286a832",
   "metadata": {
    "scrolled": false
   },
   "outputs": [
    {
     "data": {
      "image/png": "[encoded data removed]",
      "text/plain": [
       "<Figure size 720x504 with 2 Axes>"
      ]
     },
     "metadata": {
      "needs_background": "light"
     },
     "output_type": "display_data"
    }
   ],
   "source": [
    "sns.heatmap(df.isnull().transpose(), cmap='viridis');"
   ]
  },
  {
   "cell_type": "markdown",
   "id": "5c5f12bd",
   "metadata": {},
   "source": [
    "> Dataset sin valores nulos."
   ]
  },
  {
   "cell_type": "code",
   "execution_count": 336,
   "id": "72fd51a6",
   "metadata": {
    "scrolled": false
   },
   "outputs": [
    {
     "data": {
      "image/png": "[encoded data removed]",
      "text/plain": [
       "<Figure size 1152x360 with 1 Axes>"
      ]
     },
     "metadata": {
      "needs_background": "light"
     },
     "output_type": "display_data"
    }
   ],
   "source": [
    "fig, ax = plt.subplots(figsize= (16,5))\n",
    "plt.title('Sentimientos con mayor frecuencia', fontsize=15)\n",
    "sns.countplot(data=df, x='sentiment', order=df.sentiment.value_counts().index)\n",
    "sns.despine()"
   ]
  },
  {
   "cell_type": "code",
   "execution_count": 105,
   "id": "cc29a39d",
   "metadata": {},
   "outputs": [
    {
     "data": {
      "image/png": "[encoded data removed]",
      "text/plain": [
       "<Figure size 576x360 with 1 Axes>"
      ]
     },
     "metadata": {},
     "output_type": "display_data"
    }
   ],
   "source": [
    "sns.set_style('whitegrid')\n",
    "color_palette = 'GnBu_d'\n",
    "\n",
    "fig, ax = plt.subplots(figsize=(8, 5))\n",
    "sns.countplot(data=df, x='polarity', order=df['polarity'].value_counts().index, palette=color_palette)\n",
    "ax.set_title('Polaridad con mayor frecuencia', fontsize=15)\n",
    "\n",
    "plt.show()"
   ]
  },
  {
   "cell_type": "code",
   "execution_count": 111,
   "id": "16f3bb07",
   "metadata": {},
   "outputs": [
    {
     "data": {
      "image/png": "[encoded data removed]",
      "text/plain": [
       "<Figure size 576x360 with 1 Axes>"
      ]
     },
     "metadata": {},
     "output_type": "display_data"
    }
   ],
   "source": [
    "fig, ax = plt.subplots(figsize= (8,5))\n",
    "plt.title('Polaridad con mayor frecuencia, neutrales asignados por BNB', fontsize=15)\n",
    "sns.countplot(data=df, x='new_polarity', order=df.new_polarity.value_counts().index, palette=color_palette)\n",
    "sns.despine()\n",
    "\n",
    "plt.show()"
   ]
  },
  {
   "cell_type": "code",
   "execution_count": 339,
   "id": "e6e492d5",
   "metadata": {
    "scrolled": false
   },
   "outputs": [
    {
     "data": {
      "image/png": "[encoded data removed]",
      "text/plain": [
       "<Figure size 864x720 with 1 Axes>"
      ]
     },
     "metadata": {
      "needs_background": "light"
     },
     "output_type": "display_data"
    }
   ],
   "source": [
    "wordcloud = WordCloud(width=800, height=400, background_color='black', max_words=50, relative_scaling=0.5, colormap='Dark2')\n",
    "\n",
    "wordcloud.generate_from_frequencies(frequency_dist)\n",
    "\n",
    "plt.figure(figsize=(12, 10))\n",
    "plt.imshow(wordcloud, interpolation='bilinear')\n",
    "plt.axis('off')\n",
    "plt.title('Frecuencia de tokens')\n",
    "plt.show()"
   ]
  },
  {
   "cell_type": "markdown",
   "id": "a4e3c2d7",
   "metadata": {},
   "source": [
    "# Separación"
   ]
  },
  {
   "cell_type": "code",
   "execution_count": 124,
   "id": "710e79e1",
   "metadata": {},
   "outputs": [],
   "source": [
    "df['new_polarity'] = df['new_polarity'].replace(['Positive', 'Negative'], [1,0])"
   ]
  },
  {
   "cell_type": "code",
   "execution_count": 125,
   "id": "40a4e52e",
   "metadata": {},
   "outputs": [],
   "source": [
    "X_train, X_test, y_train, y_test = train_test_split(df['lemmatized_tweets'], df['new_polarity'], test_size = 0.33, random_state = 11238)"
   ]
  },
  {
   "cell_type": "code",
   "execution_count": 126,
   "id": "78e7dc39",
   "metadata": {},
   "outputs": [],
   "source": [
    "vectorizer = CountVectorizer()\n",
    "\n",
    "train_vectors = vectorizer.fit_transform(X_train)\n",
    "test_vectors = vectorizer.transform(X_test)"
   ]
  },
  {
   "cell_type": "markdown",
   "id": "9c7a6ed4",
   "metadata": {},
   "source": [
    "# MultinomialNB"
   ]
  },
  {
   "cell_type": "code",
   "execution_count": 127,
   "id": "f9d87f7c",
   "metadata": {},
   "outputs": [
    {
     "name": "stdout",
     "output_type": "stream",
     "text": [
      "Mejores hiperparámetros: {'alpha': 1, 'fit_prior': False}\n",
      "Precisión en conjunto de prueba: 0.7537373737373737\n"
     ]
    }
   ],
   "source": [
    "param_grid = dict(\n",
    "    alpha = [0.01, 0.1, 1, 10],\n",
    "    fit_prior = [True, False]\n",
    "    )\n",
    "\n",
    "MNB = MultinomialNB()\n",
    "\n",
    "GSearch_MNB = GridSearchCV(MNB, param_grid, cv=5)\n",
    "GSearch_MNB.fit(train_vectors, y_train)\n",
    "\n",
    "predictions_mnb = GSearch_MNB.predict(test_vectors)\n",
    "\n",
    "print(\"Mejores hiperparámetros:\", GSearch_MNB.best_params_)\n",
    "print(\"Precisión en conjunto de prueba:\", GSearch_MNB.score(test_vectors, y_test))"
   ]
  },
  {
   "cell_type": "code",
   "execution_count": 128,
   "id": "190831ca",
   "metadata": {},
   "outputs": [
    {
     "name": "stdout",
     "output_type": "stream",
     "text": [
      "\n",
      "Reporte de Clasificación:\n",
      "              precision    recall  f1-score   support\n",
      "\n",
      "           0       0.72      0.82      0.77      4944\n",
      "           1       0.79      0.69      0.74      4956\n",
      "\n",
      "    accuracy                           0.75      9900\n",
      "   macro avg       0.76      0.75      0.75      9900\n",
      "weighted avg       0.76      0.75      0.75      9900\n",
      "\n"
     ]
    }
   ],
   "source": [
    "print(\"\\nReporte de Clasificación:\")\n",
    "print(classification_report(y_test, predictions_mnb))"
   ]
  },
  {
   "cell_type": "markdown",
   "id": "fd013910",
   "metadata": {},
   "source": [
    "# SVM"
   ]
  },
  {
   "cell_type": "code",
   "execution_count": 129,
   "id": "0237f04f",
   "metadata": {},
   "outputs": [
    {
     "data": {
      "text/plain": [
       "GridSearchCV(cv=5, estimator=SVC(),\n",
       "             param_grid={'C': [0.1, 0.3, 0.5], 'kernel': ['linear', 'rbf']})"
      ]
     },
     "execution_count": 129,
     "metadata": {},
     "output_type": "execute_result"
    }
   ],
   "source": [
    "svc = SVC()\n",
    "\n",
    "param_grid_svc = {'C': [0.1, 0.3, 0.5], 'kernel': ['linear', 'rbf']}\n",
    "\n",
    "svc_model = GridSearchCV(svc, param_grid=param_grid_svc, cv=5)\n",
    "svc_model.fit(train_vectors, y_train)"
   ]
  },
  {
   "cell_type": "code",
   "execution_count": 130,
   "id": "e37512a9",
   "metadata": {},
   "outputs": [
    {
     "name": "stdout",
     "output_type": "stream",
     "text": [
      "Mejores parámetros:  {'C': 0.1, 'kernel': 'linear'}\n",
      "Precisión del modelo:  0.7645273631840797\n"
     ]
    }
   ],
   "source": [
    "print(\"Mejores parámetros: \",svc_model.best_params_)\n",
    "print(\"Precisión del modelo: \", svc_model.best_score_)"
   ]
  },
  {
   "cell_type": "code",
   "execution_count": 131,
   "id": "e8c87b11",
   "metadata": {
    "scrolled": true
   },
   "outputs": [],
   "source": [
    "svc_predictions = svc_model.predict(test_vectors)"
   ]
  },
  {
   "cell_type": "code",
   "execution_count": 132,
   "id": "ac38db6b",
   "metadata": {},
   "outputs": [
    {
     "name": "stdout",
     "output_type": "stream",
     "text": [
      "              precision    recall  f1-score   support\n",
      "\n",
      "           0       0.75      0.79      0.77      4944\n",
      "           1       0.78      0.74      0.76      4956\n",
      "\n",
      "    accuracy                           0.77      9900\n",
      "   macro avg       0.77      0.77      0.77      9900\n",
      "weighted avg       0.77      0.77      0.77      9900\n",
      "\n"
     ]
    }
   ],
   "source": [
    "print(classification_report(y_test, svc_predictions))"
   ]
  },
  {
   "cell_type": "markdown",
   "id": "72c810fa",
   "metadata": {},
   "source": [
    "# Gradient Boosting"
   ]
  },
  {
   "cell_type": "code",
   "execution_count": 135,
   "id": "7471a99e",
   "metadata": {},
   "outputs": [],
   "source": [
    "param_grid_gbc = {\n",
    "    'learning_rate': [0.05, 0.1, 0.2],\n",
    "    'max_depth': [3, 5, 7],\n",
    "    'n_estimators': [50, 100, 150],\n",
    "}"
   ]
  },
  {
   "cell_type": "code",
   "execution_count": 136,
   "id": "222868dd",
   "metadata": {},
   "outputs": [],
   "source": [
    "gbc = GradientBoostingClassifier(random_state=1)"
   ]
  },
  {
   "cell_type": "code",
   "execution_count": 138,
   "id": "8315ba5f",
   "metadata": {},
   "outputs": [],
   "source": [
    "grid_search = GridSearchCV(estimator=gbc, param_grid=param_grid_gbc, cv=5, scoring='f1')"
   ]
  },
  {
   "cell_type": "code",
   "execution_count": 139,
   "id": "da764e8d",
   "metadata": {
    "scrolled": true
   },
   "outputs": [
    {
     "data": {
      "text/plain": [
       "GridSearchCV(cv=5, estimator=GradientBoostingClassifier(random_state=1),\n",
       "             param_grid={'learning_rate': [0.05, 0.1, 0.2],\n",
       "                         'max_depth': [3, 5, 7],\n",
       "                         'n_estimators': [50, 100, 150]},\n",
       "             scoring='f1')"
      ]
     },
     "execution_count": 139,
     "metadata": {},
     "output_type": "execute_result"
    }
   ],
   "source": [
    "grid_search.fit(train_vectors, y_train)"
   ]
  },
  {
   "cell_type": "code",
   "execution_count": 140,
   "id": "c2fc4d7b",
   "metadata": {},
   "outputs": [],
   "source": [
    "gb_best_m = GradientBoostingClassifier(**grid_search.best_params_, random_state=1)"
   ]
  },
  {
   "cell_type": "code",
   "execution_count": 141,
   "id": "a225bed2",
   "metadata": {},
   "outputs": [
    {
     "data": {
      "text/plain": [
       "GradientBoostingClassifier(learning_rate=0.2, max_depth=7, n_estimators=150,\n",
       "                           random_state=1)"
      ]
     },
     "execution_count": 141,
     "metadata": {},
     "output_type": "execute_result"
    }
   ],
   "source": [
    "gb_best_m.fit(train_vectors, y_train)"
   ]
  },
  {
   "cell_type": "code",
   "execution_count": 142,
   "id": "19860b6d",
   "metadata": {},
   "outputs": [],
   "source": [
    "predictions_gbc = gb_best_m.predict(test_vectors)"
   ]
  },
  {
   "cell_type": "code",
   "execution_count": 143,
   "id": "9f8c9ec0",
   "metadata": {
    "scrolled": true
   },
   "outputs": [
    {
     "name": "stdout",
     "output_type": "stream",
     "text": [
      "Mejores hiperparámetros: {'learning_rate': 0.2, 'max_depth': 7, 'n_estimators': 150}\n"
     ]
    }
   ],
   "source": [
    "print('Mejores hiperparámetros:', grid_search.best_params_)"
   ]
  },
  {
   "cell_type": "code",
   "execution_count": 144,
   "id": "4b47d20b",
   "metadata": {},
   "outputs": [
    {
     "name": "stdout",
     "output_type": "stream",
     "text": [
      "\n",
      "Reporte de Clasificación:\n",
      "              precision    recall  f1-score   support\n",
      "\n",
      "           0     0.7335    0.7656    0.7492      4944\n",
      "           1     0.7555    0.7226    0.7387      4956\n",
      "\n",
      "    accuracy                         0.7440      9900\n",
      "   macro avg     0.7445    0.7441    0.7439      9900\n",
      "weighted avg     0.7445    0.7440    0.7439      9900\n",
      "\n"
     ]
    }
   ],
   "source": [
    "print(\"\\nReporte de Clasificación:\")\n",
    "print(classification_report(y_test, predictions_gbc, digits=4))"
   ]
  },
  {
   "cell_type": "markdown",
   "id": "c9b7f506",
   "metadata": {},
   "source": [
    "# Logistic Regression"
   ]
  },
  {
   "cell_type": "code",
   "execution_count": 145,
   "id": "d3188b3a",
   "metadata": {},
   "outputs": [],
   "source": [
    "param_grid_lr = {\n",
    "    'C': [0.01, 0.1, 1, 10, 100],\n",
    "    'solver': ['liblinear', 'saga']\n",
    "}"
   ]
  },
  {
   "cell_type": "code",
   "execution_count": 146,
   "id": "d35dded2",
   "metadata": {},
   "outputs": [],
   "source": [
    "lr = LogisticRegression(random_state=1, max_iter=15000)"
   ]
  },
  {
   "cell_type": "code",
   "execution_count": 147,
   "id": "009584be",
   "metadata": {
    "scrolled": true
   },
   "outputs": [
    {
     "data": {
      "text/plain": [
       "GridSearchCV(cv=5, estimator=LogisticRegression(max_iter=15000, random_state=1),\n",
       "             param_grid={'C': [0.01, 0.1, 1, 10, 100],\n",
       "                         'solver': ['liblinear', 'saga']})"
      ]
     },
     "execution_count": 147,
     "metadata": {},
     "output_type": "execute_result"
    }
   ],
   "source": [
    "lr_model = GridSearchCV(lr, param_grid_lr, cv=5)\n",
    "lr_model.fit(train_vectors, y_train)"
   ]
  },
  {
   "cell_type": "code",
   "execution_count": 148,
   "id": "1c35d1a4",
   "metadata": {},
   "outputs": [
    {
     "name": "stdout",
     "output_type": "stream",
     "text": [
      "Mejores parámetros: {'C': 0.1, 'solver': 'liblinear'}\n"
     ]
    }
   ],
   "source": [
    "print('Mejores parámetros:', lr_model.best_params_)"
   ]
  },
  {
   "cell_type": "code",
   "execution_count": 149,
   "id": "d9986d3f",
   "metadata": {},
   "outputs": [],
   "source": [
    "predictions_lr = lr_model.predict(test_vectors)"
   ]
  },
  {
   "cell_type": "code",
   "execution_count": 150,
   "id": "c1cb4bbb",
   "metadata": {},
   "outputs": [
    {
     "name": "stdout",
     "output_type": "stream",
     "text": [
      "              precision    recall  f1-score   support\n",
      "\n",
      "           0       0.75      0.79      0.77      4944\n",
      "           1       0.78      0.74      0.76      4956\n",
      "\n",
      "    accuracy                           0.77      9900\n",
      "   macro avg       0.77      0.77      0.77      9900\n",
      "weighted avg       0.77      0.77      0.77      9900\n",
      "\n"
     ]
    }
   ],
   "source": [
    "print(classification_report(y_test, predictions_lr))"
   ]
  },
  {
   "cell_type": "markdown",
   "id": "7998b76d",
   "metadata": {},
   "source": [
    "# BernouliNB"
   ]
  },
  {
   "cell_type": "code",
   "execution_count": 151,
   "id": "97a1f71e",
   "metadata": {},
   "outputs": [],
   "source": [
    "parameters = {\n",
    "    'alpha': [0.1, 1.0, 10.0] \n",
    "}"
   ]
  },
  {
   "cell_type": "code",
   "execution_count": 152,
   "id": "4250ac38",
   "metadata": {},
   "outputs": [],
   "source": [
    "clf = BernoulliNB()"
   ]
  },
  {
   "cell_type": "code",
   "execution_count": 153,
   "id": "c8459d44",
   "metadata": {},
   "outputs": [],
   "source": [
    "bernoulli_m = GridSearchCV(clf, parameters, cv=5, n_jobs=-1, verbose=1)"
   ]
  },
  {
   "cell_type": "code",
   "execution_count": 154,
   "id": "56c6ea1f",
   "metadata": {
    "scrolled": false
   },
   "outputs": [
    {
     "name": "stdout",
     "output_type": "stream",
     "text": [
      "Fitting 5 folds for each of 3 candidates, totalling 15 fits\n"
     ]
    },
    {
     "data": {
      "text/plain": [
       "GridSearchCV(cv=5, estimator=BernoulliNB(), n_jobs=-1,\n",
       "             param_grid={'alpha': [0.1, 1.0, 10.0]}, verbose=1)"
      ]
     },
     "execution_count": 154,
     "metadata": {},
     "output_type": "execute_result"
    }
   ],
   "source": [
    "bernoulli_m.fit(train_vectors, y_train)"
   ]
  },
  {
   "cell_type": "code",
   "execution_count": 155,
   "id": "97e3b060",
   "metadata": {},
   "outputs": [],
   "source": [
    "bernoulli_predictions = bernoulli_m.predict(test_vectors)"
   ]
  },
  {
   "cell_type": "code",
   "execution_count": 156,
   "id": "be01b64b",
   "metadata": {},
   "outputs": [
    {
     "name": "stdout",
     "output_type": "stream",
     "text": [
      "              precision    recall  f1-score   support\n",
      "\n",
      "           0     0.7444    0.7874    0.7653      4944\n",
      "           1     0.7749    0.7302    0.7519      4956\n",
      "\n",
      "    accuracy                         0.7588      9900\n",
      "   macro avg     0.7597    0.7588    0.7586      9900\n",
      "weighted avg     0.7597    0.7588    0.7586      9900\n",
      "\n"
     ]
    }
   ],
   "source": [
    "print(classification_report(y_test, bernoulli_predictions, digits=4))"
   ]
  },
  {
   "cell_type": "code",
   "execution_count": 157,
   "id": "9f97558d",
   "metadata": {
    "scrolled": true
   },
   "outputs": [
    {
     "name": "stdout",
     "output_type": "stream",
     "text": [
      "Best parameters:  {'alpha': 1.0}\n"
     ]
    }
   ],
   "source": [
    "print(\"Best parameters: \", bernoulli_m.best_params_)"
   ]
  },
  {
   "cell_type": "markdown",
   "id": "85767b9a",
   "metadata": {},
   "source": [
    "# Tabla comparativa modelos"
   ]
  },
  {
   "cell_type": "code",
   "execution_count": 158,
   "id": "8de9bb8b",
   "metadata": {
    "scrolled": true
   },
   "outputs": [],
   "source": [
    "models = {'MultinomialNB': GSearch_MNB, \n",
    "          'SVC': svc_model, \n",
    "          'Gradient Boost': gb_best_m, \n",
    "          'LogisticRegression': lr_model, \n",
    "          'BernoulliNB': bernoulli_m}\n",
    "\n",
    "accuracies = {}\n",
    "for name, model in models.items():\n",
    "    accuracy = model.score(test_vectors, y_test)\n",
    "    accuracies[name] = accuracy\n",
    "\n",
    "df_comparison = pd.DataFrame.from_dict(accuracies, orient='index', columns=['Accuracy'])\n",
    "df_comparison.index.name = 'Model'"
   ]
  },
  {
   "cell_type": "code",
   "execution_count": 159,
   "id": "042e1d95",
   "metadata": {},
   "outputs": [
    {
     "data": {
      "text/html": [
       "<div>\n",
       "<style scoped>\n",
       "    .dataframe tbody tr th:only-of-type {\n",
       "        vertical-align: middle;\n",
       "    }\n",
       "\n",
       "    .dataframe tbody tr th {\n",
       "        vertical-align: top;\n",
       "    }\n",
       "\n",
       "    .dataframe thead th {\n",
       "        text-align: right;\n",
       "    }\n",
       "</style>\n",
       "<table border=\"1\" class=\"dataframe\">\n",
       "  <thead>\n",
       "    <tr style=\"text-align: right;\">\n",
       "      <th></th>\n",
       "      <th>Accuracy</th>\n",
       "    </tr>\n",
       "    <tr>\n",
       "      <th>Model</th>\n",
       "      <th></th>\n",
       "    </tr>\n",
       "  </thead>\n",
       "  <tbody>\n",
       "    <tr>\n",
       "      <th>SVC</th>\n",
       "      <td>0.766162</td>\n",
       "    </tr>\n",
       "    <tr>\n",
       "      <th>LogisticRegression</th>\n",
       "      <td>0.765455</td>\n",
       "    </tr>\n",
       "    <tr>\n",
       "      <th>BernoulliNB</th>\n",
       "      <td>0.758788</td>\n",
       "    </tr>\n",
       "    <tr>\n",
       "      <th>MultinomialNB</th>\n",
       "      <td>0.753737</td>\n",
       "    </tr>\n",
       "    <tr>\n",
       "      <th>Gradient Boost</th>\n",
       "      <td>0.744040</td>\n",
       "    </tr>\n",
       "  </tbody>\n",
       "</table>\n",
       "</div>"
      ],
      "text/plain": [
       "                    Accuracy\n",
       "Model                       \n",
       "SVC                 0.766162\n",
       "LogisticRegression  0.765455\n",
       "BernoulliNB         0.758788\n",
       "MultinomialNB       0.753737\n",
       "Gradient Boost      0.744040"
      ]
     },
     "execution_count": 159,
     "metadata": {},
     "output_type": "execute_result"
    }
   ],
   "source": [
    "df_comparison.sort_values(by='Accuracy', ascending=False)"
   ]
  },
  {
   "cell_type": "markdown",
   "id": "e54f5ffa",
   "metadata": {},
   "source": [
    "> Los dos mejores modelos SVC y LogisticRegression respectivamente"
   ]
  },
  {
   "cell_type": "markdown",
   "id": "e57f1c46",
   "metadata": {},
   "source": [
    "## Exportación de modelos"
   ]
  },
  {
   "cell_type": "code",
   "execution_count": 533,
   "id": "369fbfca",
   "metadata": {},
   "outputs": [],
   "source": [
    "import pickle"
   ]
  },
  {
   "cell_type": "code",
   "execution_count": 534,
   "id": "63309de1",
   "metadata": {},
   "outputs": [],
   "source": [
    "with open('multinomialnb_tweet.pkl', 'wb') as archive:\n",
    "    pickle.dump(Search_MNB_1, archive)"
   ]
  },
  {
   "cell_type": "code",
   "execution_count": 535,
   "id": "f9dabb04",
   "metadata": {},
   "outputs": [],
   "source": [
    "with open('svc_tweet.pkl', 'wb') as archive:\n",
    "    pickle.dump(svc_model, archive)"
   ]
  }
 ],
 "metadata": {
  "kernelspec": {
   "display_name": "Python 3 (ipykernel)",
   "language": "python",
   "name": "python3"
  },
  "language_info": {
   "codemirror_mode": {
    "name": "ipython",
    "version": 3
   },
   "file_extension": ".py",
   "mimetype": "text/x-python",
   "name": "python",
   "nbconvert_exporter": "python",
   "pygments_lexer": "ipython3",
   "version": "3.9.12"
  }
 },
 "nbformat": 4,
 "nbformat_minor": 5
}
